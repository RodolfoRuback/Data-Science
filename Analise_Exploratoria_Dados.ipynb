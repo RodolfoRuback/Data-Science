{
 "cells": [
  {
   "cell_type": "markdown",
   "metadata": {},
   "source": [
    "### TAREFA"
   ]
  },
  {
   "cell_type": "code",
   "execution_count": null,
   "metadata": {},
   "outputs": [],
   "source": []
  },
  {
   "cell_type": "code",
   "execution_count": 45,
   "metadata": {},
   "outputs": [],
   "source": [
    "#Nome: Rodolfo Oliveira Ruback"
   ]
  },
  {
   "cell_type": "markdown",
   "metadata": {},
   "source": [
    "**Ex1**: Analise e quantifique a relação da variável survived com a variável sex usando o conjunto de dados do titanic. Faça seus gráficos e calcule o chi-quadrado para quantificar a relação."
   ]
  },
  {
   "cell_type": "code",
   "execution_count": 46,
   "metadata": {},
   "outputs": [],
   "source": [
    "import numpy as np\n",
    "import pandas as pd\n",
    "import matplotlib.pyplot as plt\n",
    "\n",
    "df = pd.read_csv(\"titanic.csv\")\n",
    "df.head() #Verificando as primeiras 5 linhas da tabela de dados\n",
    "df_sexSurv = df.groupby('Sex').apply(lambda x: x.Survived.value_counts()).unstack() # Frequencia Absoluta Sexo x Sobreviveu"
   ]
  },
  {
   "cell_type": "code",
   "execution_count": null,
   "metadata": {},
   "outputs": [],
   "source": []
  },
  {
   "cell_type": "code",
   "execution_count": null,
   "metadata": {},
   "outputs": [],
   "source": []
  },
  {
   "cell_type": "code",
   "execution_count": 47,
   "metadata": {},
   "outputs": [
    {
     "data": {
      "text/html": [
       "<div>\n",
       "<style scoped>\n",
       "    .dataframe tbody tr th:only-of-type {\n",
       "        vertical-align: middle;\n",
       "    }\n",
       "\n",
       "    .dataframe tbody tr th {\n",
       "        vertical-align: top;\n",
       "    }\n",
       "\n",
       "    .dataframe thead th {\n",
       "        text-align: right;\n",
       "    }\n",
       "</style>\n",
       "<table border=\"1\" class=\"dataframe\">\n",
       "  <thead>\n",
       "    <tr style=\"text-align: right;\">\n",
       "      <th></th>\n",
       "      <th>0</th>\n",
       "      <th>1</th>\n",
       "      <th>total</th>\n",
       "    </tr>\n",
       "    <tr>\n",
       "      <th>Sex</th>\n",
       "      <th></th>\n",
       "      <th></th>\n",
       "      <th></th>\n",
       "    </tr>\n",
       "  </thead>\n",
       "  <tbody>\n",
       "    <tr>\n",
       "      <th>female</th>\n",
       "      <td>81</td>\n",
       "      <td>233</td>\n",
       "      <td>314</td>\n",
       "    </tr>\n",
       "    <tr>\n",
       "      <th>male</th>\n",
       "      <td>468</td>\n",
       "      <td>109</td>\n",
       "      <td>577</td>\n",
       "    </tr>\n",
       "  </tbody>\n",
       "</table>\n",
       "</div>"
      ],
      "text/plain": [
       "          0    1  total\n",
       "Sex                    \n",
       "female   81  233    314\n",
       "male    468  109    577"
      ]
     },
     "execution_count": 47,
     "metadata": {},
     "output_type": "execute_result"
    }
   ],
   "source": [
    "df_sexSurv['total'] = df_sexSurv[[0]].values + df_sexSurv[[1]].values  #Adicionando a coluna Total\n",
    "df_sexSurv"
   ]
  },
  {
   "cell_type": "code",
   "execution_count": 3,
   "metadata": {},
   "outputs": [
    {
     "data": {
      "text/html": [
       "<div>\n",
       "<style scoped>\n",
       "    .dataframe tbody tr th:only-of-type {\n",
       "        vertical-align: middle;\n",
       "    }\n",
       "\n",
       "    .dataframe tbody tr th {\n",
       "        vertical-align: top;\n",
       "    }\n",
       "\n",
       "    .dataframe thead th {\n",
       "        text-align: right;\n",
       "    }\n",
       "</style>\n",
       "<table border=\"1\" class=\"dataframe\">\n",
       "  <thead>\n",
       "    <tr style=\"text-align: right;\">\n",
       "      <th></th>\n",
       "      <th>0</th>\n",
       "      <th>1</th>\n",
       "    </tr>\n",
       "    <tr>\n",
       "      <th>Sex</th>\n",
       "      <th></th>\n",
       "      <th></th>\n",
       "    </tr>\n",
       "  </thead>\n",
       "  <tbody>\n",
       "    <tr>\n",
       "      <th>female</th>\n",
       "      <td>0.257962</td>\n",
       "      <td>0.742038</td>\n",
       "    </tr>\n",
       "    <tr>\n",
       "      <th>male</th>\n",
       "      <td>0.811092</td>\n",
       "      <td>0.188908</td>\n",
       "    </tr>\n",
       "  </tbody>\n",
       "</table>\n",
       "</div>"
      ],
      "text/plain": [
       "               0         1\n",
       "Sex                       \n",
       "female  0.257962  0.742038\n",
       "male    0.811092  0.188908"
      ]
     },
     "execution_count": 3,
     "metadata": {},
     "output_type": "execute_result"
    }
   ],
   "source": [
    "df_sexSurv_pct = df.groupby('Sex').apply(lambda x: x.Survived.value_counts()/x.shape[0]).unstack()\n",
    "\n",
    "df_sexSurv_pct"
   ]
  },
  {
   "cell_type": "code",
   "execution_count": 4,
   "metadata": {},
   "outputs": [
    {
     "data": {
      "image/png": "[encoded data removed]",
      "text/plain": [
       "<Figure size 432x288 with 1 Axes>"
      ]
     },
     "metadata": {
      "needs_background": "light"
     },
     "output_type": "display_data"
    },
    {
     "data": {
      "image/png": "[encoded data removed]",
      "text/plain": [
       "<Figure size 432x288 with 1 Axes>"
      ]
     },
     "metadata": {
      "needs_background": "light"
     },
     "output_type": "display_data"
    }
   ],
   "source": [
    "labels = list(df_sexSurv.index) #labels do gráfico de barras\n",
    "\n",
    "morreram = df_sexSurv[0].values #valores para construção do grafico de barras\n",
    "sobreviveram = df_sexSurv[1].values #valores para construção do grafico de barras\n",
    "\n",
    "morreram_pct = df_sexSurv_pct[0].values #valores para construção do grafico de barras\n",
    "sobreviveram_pct= df_sexSurv_pct[1].values #valores para construção do grafico de barras\n",
    "\n",
    "\n",
    "x = np.arange(len(labels))  #localização dos labels\n",
    "width = 0.35  # largura das barras\n",
    "\n",
    "fig, ax = plt.subplots() #construção do frame, criando figura e eixos\n",
    "\n",
    "rects1 = ax.bar(x - width/2, morreram, width, label='Morreram') #valores para construção do gráfico de barras\n",
    "rects2 = ax.bar(x + width/2, sobreviveram, width, label='Sobreviveram')\n",
    "\n",
    "# Adicona título no gráfico, legenda nos eixos e no gráfico legenda\n",
    "ax.set_ylabel('Frequência Absoluta') #legenda eixo y\n",
    "ax.set_title('Distribuição de Sobreviventes por Sexo') #titulo\n",
    "ax.set_xticks(x) #seta a posição dos labels\n",
    "ax.set_xticklabels(labels) # legenda dos labels do eixo x\n",
    "ax.legend() #legenda do gráfico\n",
    "plt.show()\n",
    "\n",
    "fig, ax1 = plt.subplots()\n",
    "rects3 = ax1.bar(x - width/2, morreram_pct, width, label='Morreram')\n",
    "rects4 = ax1.bar(x + width/2, sobreviveram_pct, width, label='Sobreviveram')\n",
    "\n",
    "# Add some text for labels, title and custom x-axis tick labels, etc.\n",
    "ax1.set_ylabel('Frequência Percentual %')\n",
    "ax1.set_title('Distribuição de Sobreviventes por Sexo Percentual')\n",
    "ax1.set_xticks(x)\n",
    "ax1.set_xticklabels(labels)\n",
    "ax1.legend()\n",
    "plt.show()\n"
   ]
  },
  {
   "cell_type": "code",
   "execution_count": 5,
   "metadata": {},
   "outputs": [
    {
     "data": {
      "text/plain": [
       "array([0.62])"
      ]
     },
     "execution_count": 5,
     "metadata": {},
     "output_type": "execute_result"
    }
   ],
   "source": [
    "# Distribuição percentual da variável Sexo:\n",
    "dist_pct = pd.DataFrame(round(df.Survived.value_counts()/df.shape[0],2))\n",
    "dist_pct\n",
    "dist_pct.iloc[0].values\n",
    "\n"
   ]
  },
  {
   "cell_type": "code",
   "execution_count": null,
   "metadata": {},
   "outputs": [],
   "source": []
  },
  {
   "cell_type": "code",
   "execution_count": 6,
   "metadata": {},
   "outputs": [
    {
     "data": {
      "text/html": [
       "<div>\n",
       "<style scoped>\n",
       "    .dataframe tbody tr th:only-of-type {\n",
       "        vertical-align: middle;\n",
       "    }\n",
       "\n",
       "    .dataframe tbody tr th {\n",
       "        vertical-align: top;\n",
       "    }\n",
       "\n",
       "    .dataframe thead th {\n",
       "        text-align: right;\n",
       "    }\n",
       "</style>\n",
       "<table border=\"1\" class=\"dataframe\">\n",
       "  <thead>\n",
       "    <tr style=\"text-align: right;\">\n",
       "      <th></th>\n",
       "      <th>0</th>\n",
       "      <th>1</th>\n",
       "    </tr>\n",
       "  </thead>\n",
       "  <tbody>\n",
       "    <tr>\n",
       "      <th>0</th>\n",
       "      <td>194.68</td>\n",
       "      <td>119.32</td>\n",
       "    </tr>\n",
       "    <tr>\n",
       "      <th>1</th>\n",
       "      <td>357.74</td>\n",
       "      <td>219.26</td>\n",
       "    </tr>\n",
       "  </tbody>\n",
       "</table>\n",
       "</div>"
      ],
      "text/plain": [
       "        0       1\n",
       "0  194.68  119.32\n",
       "1  357.74  219.26"
      ]
     },
     "execution_count": 6,
     "metadata": {},
     "output_type": "execute_result"
    }
   ],
   "source": [
    "# Valores esperados, caso não tivéssemos relação entre Sexo e Sobreviventes\n",
    "esp_0 = df_sexSurv.total.values * dist_pct.iloc[0].values\n",
    "esp_1 = df_sexSurv.total.values * dist_pct.iloc[1].values\n",
    "\n",
    "df_esp = pd.DataFrame(np.c_[esp_0,esp_1])\n",
    "\n",
    "df_esp"
   ]
  },
  {
   "cell_type": "code",
   "execution_count": 7,
   "metadata": {},
   "outputs": [
    {
     "name": "stdout",
     "output_type": "stream",
     "text": [
      "[[-113.68  113.68]\n",
      " [ 110.26 -110.26]]\n",
      "\n",
      "O chi-quadrado de Pearson é de: 264.11838848422303 indicando uma 'boa' relação entre as variáveis!\n"
     ]
    }
   ],
   "source": [
    "# Cálculo do Chi - Quadrado\n",
    "# Observado menos o esperado: o_i - e_i == desvio\n",
    "desvios = (df_sexSurv.iloc[:,:2].values - df_esp.values)\n",
    "print(desvios)\n",
    "\n",
    "#(o_i - e_i)^2\n",
    "desvios_ao_quadrado = desvios**2\n",
    "\n",
    "#(o_i - e_i)^2 / e_i\n",
    "\n",
    "chi_quad = sum(sum(desvios_ao_quadrado/df_esp.values))\n",
    "\n",
    "print(\"\\nO chi-quadrado de Pearson é de:\", chi_quad, \"indicando uma 'boa' relação entre as variáveis!\")"
   ]
  },
  {
   "cell_type": "markdown",
   "metadata": {},
   "source": [
    "Ex3: Use o dataframe df, carregado abaixo, onde  cada observação corresponde a uma reclamação feita \n",
    "pelo consumidor, para responder as perguntas abaixo:\n",
    "\n",
    "1 - Qual o número de reclamações por Estado?<br>\n",
    "2 - Qual a quantidade de reclamações por sexo?<br>\n",
    "3 - O tempo de resposta tem alguma correlação com a nota do consumidor?<br>\n",
    "4 - Proporção de reclamações registradas e não respondidas.<br>\n",
    "5 - Imagine que você é alguém responsável por monitorar a satisfação dos consumidores. Que outros tipos de pergunta e análises você entende que poderiam ser feitas? Acrescente mais duas perguntas feitas por você, bem como suas análises para responde-las. \n",
    "**Importante**: É interessante que as análises contenham gráficos. No dia-a-dia de um cientista, grande parte do  trabalho é analisar dados e gerar visualizações para apresentá-las.\n",
    "\n",
    "_fonte_ : https://dados.gov.br/dataset/reclamacoes-do-consumidor-gov-br1 (Nesse link estão os dicionário de dados, caso possua dúvidas sobre base)."
   ]
  },
  {
   "cell_type": "code",
   "execution_count": 48,
   "metadata": {},
   "outputs": [
    {
     "data": {
      "text/html": [
       "<div>\n",
       "<style scoped>\n",
       "    .dataframe tbody tr th:only-of-type {\n",
       "        vertical-align: middle;\n",
       "    }\n",
       "\n",
       "    .dataframe tbody tr th {\n",
       "        vertical-align: top;\n",
       "    }\n",
       "\n",
       "    .dataframe thead th {\n",
       "        text-align: right;\n",
       "    }\n",
       "</style>\n",
       "<table border=\"1\" class=\"dataframe\">\n",
       "  <thead>\n",
       "    <tr style=\"text-align: right;\">\n",
       "      <th></th>\n",
       "      <th>Gestor</th>\n",
       "      <th>Canal de Origem</th>\n",
       "      <th>Região</th>\n",
       "      <th>UF</th>\n",
       "      <th>Cidade</th>\n",
       "      <th>Sexo</th>\n",
       "      <th>Faixa Etária</th>\n",
       "      <th>Ano Abertura</th>\n",
       "      <th>Mês Abertura</th>\n",
       "      <th>Data Abertura</th>\n",
       "      <th>...</th>\n",
       "      <th>Como Comprou Contratou</th>\n",
       "      <th>Procurou Empresa</th>\n",
       "      <th>Respondida</th>\n",
       "      <th>Situação</th>\n",
       "      <th>Avaliação Reclamação</th>\n",
       "      <th>Nota do Consumidor</th>\n",
       "      <th>Análise da Recusa</th>\n",
       "      <th>Edição de Conteúdo</th>\n",
       "      <th>Interação do Gestor</th>\n",
       "      <th>Total</th>\n",
       "    </tr>\n",
       "  </thead>\n",
       "  <tbody>\n",
       "    <tr>\n",
       "      <th>0</th>\n",
       "      <td>Secretaria Nacional do Consumidor</td>\n",
       "      <td>Não identificado</td>\n",
       "      <td>SE</td>\n",
       "      <td>RJ</td>\n",
       "      <td>Itaboraí</td>\n",
       "      <td>M</td>\n",
       "      <td>entre 31 a 40 anos</td>\n",
       "      <td>2014</td>\n",
       "      <td>6</td>\n",
       "      <td>27/06/2014</td>\n",
       "      <td>...</td>\n",
       "      <td>Não comprei / contratei</td>\n",
       "      <td>S</td>\n",
       "      <td>S</td>\n",
       "      <td>Finalizada não avaliada</td>\n",
       "      <td>Não Avaliada</td>\n",
       "      <td>NaN</td>\n",
       "      <td>NaN</td>\n",
       "      <td>N</td>\n",
       "      <td>N</td>\n",
       "      <td>1</td>\n",
       "    </tr>\n",
       "    <tr>\n",
       "      <th>1</th>\n",
       "      <td>Instituto Estadual de Proteção e Defesa do Con...</td>\n",
       "      <td>Não identificado</td>\n",
       "      <td>SE</td>\n",
       "      <td>ES</td>\n",
       "      <td>Serra</td>\n",
       "      <td>F</td>\n",
       "      <td>entre 31 a 40 anos</td>\n",
       "      <td>2014</td>\n",
       "      <td>6</td>\n",
       "      <td>11/06/2014</td>\n",
       "      <td>...</td>\n",
       "      <td>Internet</td>\n",
       "      <td>S</td>\n",
       "      <td>S</td>\n",
       "      <td>Finalizada avaliada</td>\n",
       "      <td>Não Resolvida</td>\n",
       "      <td>1.0</td>\n",
       "      <td>NaN</td>\n",
       "      <td>N</td>\n",
       "      <td>N</td>\n",
       "      <td>1</td>\n",
       "    </tr>\n",
       "    <tr>\n",
       "      <th>2</th>\n",
       "      <td>Secretaria Nacional do Consumidor</td>\n",
       "      <td>Não identificado</td>\n",
       "      <td>SE</td>\n",
       "      <td>RJ</td>\n",
       "      <td>Volta Redonda</td>\n",
       "      <td>M</td>\n",
       "      <td>entre 31 a 40 anos</td>\n",
       "      <td>2014</td>\n",
       "      <td>6</td>\n",
       "      <td>27/06/2014</td>\n",
       "      <td>...</td>\n",
       "      <td>Internet</td>\n",
       "      <td>S</td>\n",
       "      <td>S</td>\n",
       "      <td>Finalizada avaliada</td>\n",
       "      <td>Resolvida</td>\n",
       "      <td>5.0</td>\n",
       "      <td>NaN</td>\n",
       "      <td>N</td>\n",
       "      <td>N</td>\n",
       "      <td>1</td>\n",
       "    </tr>\n",
       "    <tr>\n",
       "      <th>3</th>\n",
       "      <td>Instituto de Promoção e Defesa do Cidadão e Co...</td>\n",
       "      <td>Não identificado</td>\n",
       "      <td>NE</td>\n",
       "      <td>MA</td>\n",
       "      <td>São Luís</td>\n",
       "      <td>F</td>\n",
       "      <td>entre 31 a 40 anos</td>\n",
       "      <td>2014</td>\n",
       "      <td>5</td>\n",
       "      <td>29/05/2014</td>\n",
       "      <td>...</td>\n",
       "      <td>Não comprei / contratei</td>\n",
       "      <td>S</td>\n",
       "      <td>S</td>\n",
       "      <td>Finalizada avaliada</td>\n",
       "      <td>Resolvida</td>\n",
       "      <td>5.0</td>\n",
       "      <td>NaN</td>\n",
       "      <td>N</td>\n",
       "      <td>N</td>\n",
       "      <td>1</td>\n",
       "    </tr>\n",
       "    <tr>\n",
       "      <th>4</th>\n",
       "      <td>Secretaria de Desenvolvimento Social e Direito...</td>\n",
       "      <td>Não identificado</td>\n",
       "      <td>NE</td>\n",
       "      <td>PE</td>\n",
       "      <td>Recife</td>\n",
       "      <td>M</td>\n",
       "      <td>entre 21 a 30 anos</td>\n",
       "      <td>2014</td>\n",
       "      <td>6</td>\n",
       "      <td>30/06/2014</td>\n",
       "      <td>...</td>\n",
       "      <td>Internet</td>\n",
       "      <td>S</td>\n",
       "      <td>S</td>\n",
       "      <td>Finalizada não avaliada</td>\n",
       "      <td>Não Avaliada</td>\n",
       "      <td>NaN</td>\n",
       "      <td>NaN</td>\n",
       "      <td>N</td>\n",
       "      <td>N</td>\n",
       "      <td>1</td>\n",
       "    </tr>\n",
       "  </tbody>\n",
       "</table>\n",
       "<p>5 rows × 38 columns</p>\n",
       "</div>"
      ],
      "text/plain": [
       "                                              Gestor   Canal de Origem Região  \\\n",
       "0                  Secretaria Nacional do Consumidor  Não identificado     SE   \n",
       "1  Instituto Estadual de Proteção e Defesa do Con...  Não identificado     SE   \n",
       "2                  Secretaria Nacional do Consumidor  Não identificado     SE   \n",
       "3  Instituto de Promoção e Defesa do Cidadão e Co...  Não identificado     NE   \n",
       "4  Secretaria de Desenvolvimento Social e Direito...  Não identificado     NE   \n",
       "\n",
       "   UF         Cidade Sexo        Faixa Etária  Ano Abertura  Mês Abertura  \\\n",
       "0  RJ       Itaboraí    M  entre 31 a 40 anos          2014             6   \n",
       "1  ES          Serra    F  entre 31 a 40 anos          2014             6   \n",
       "2  RJ  Volta Redonda    M  entre 31 a 40 anos          2014             6   \n",
       "3  MA       São Luís    F  entre 31 a 40 anos          2014             5   \n",
       "4  PE         Recife    M  entre 21 a 30 anos          2014             6   \n",
       "\n",
       "  Data Abertura  ...   Como Comprou Contratou Procurou Empresa Respondida  \\\n",
       "0    27/06/2014  ...  Não comprei / contratei                S          S   \n",
       "1    11/06/2014  ...                 Internet                S          S   \n",
       "2    27/06/2014  ...                 Internet                S          S   \n",
       "3    29/05/2014  ...  Não comprei / contratei                S          S   \n",
       "4    30/06/2014  ...                 Internet                S          S   \n",
       "\n",
       "                  Situação Avaliação Reclamação Nota do Consumidor  \\\n",
       "0  Finalizada não avaliada         Não Avaliada                NaN   \n",
       "1      Finalizada avaliada        Não Resolvida                1.0   \n",
       "2      Finalizada avaliada            Resolvida                5.0   \n",
       "3      Finalizada avaliada            Resolvida                5.0   \n",
       "4  Finalizada não avaliada         Não Avaliada                NaN   \n",
       "\n",
       "  Análise da Recusa Edição de Conteúdo Interação do Gestor Total  \n",
       "0               NaN                  N                   N     1  \n",
       "1               NaN                  N                   N     1  \n",
       "2               NaN                  N                   N     1  \n",
       "3               NaN                  N                   N     1  \n",
       "4               NaN                  N                   N     1  \n",
       "\n",
       "[5 rows x 38 columns]"
      ]
     },
     "execution_count": 48,
     "metadata": {},
     "output_type": "execute_result"
    }
   ],
   "source": [
    "import pandas as pd\n",
    "\n",
    "df2 = pd.read_csv(\"dadosgovbr---2014.csv\",sep = ';', encoding=\"latin-1\")\n",
    "\n",
    "df2.head()"
   ]
  },
  {
   "cell_type": "code",
   "execution_count": 82,
   "metadata": {},
   "outputs": [
    {
     "data": {
      "text/html": [
       "<div>\n",
       "<style scoped>\n",
       "    .dataframe tbody tr th:only-of-type {\n",
       "        vertical-align: middle;\n",
       "    }\n",
       "\n",
       "    .dataframe tbody tr th {\n",
       "        vertical-align: top;\n",
       "    }\n",
       "\n",
       "    .dataframe thead th {\n",
       "        text-align: right;\n",
       "    }\n",
       "</style>\n",
       "<table border=\"1\" class=\"dataframe\">\n",
       "  <thead>\n",
       "    <tr style=\"text-align: right;\">\n",
       "      <th>Total</th>\n",
       "      <th>1</th>\n",
       "    </tr>\n",
       "    <tr>\n",
       "      <th>UF</th>\n",
       "      <th></th>\n",
       "    </tr>\n",
       "  </thead>\n",
       "  <tbody>\n",
       "    <tr>\n",
       "      <th>AC</th>\n",
       "      <td>449</td>\n",
       "    </tr>\n",
       "    <tr>\n",
       "      <th>AL</th>\n",
       "      <td>104</td>\n",
       "    </tr>\n",
       "    <tr>\n",
       "      <th>AM</th>\n",
       "      <td>291</td>\n",
       "    </tr>\n",
       "    <tr>\n",
       "      <th>AP</th>\n",
       "      <td>18</td>\n",
       "    </tr>\n",
       "    <tr>\n",
       "      <th>BA</th>\n",
       "      <td>2443</td>\n",
       "    </tr>\n",
       "    <tr>\n",
       "      <th>CE</th>\n",
       "      <td>1068</td>\n",
       "    </tr>\n",
       "    <tr>\n",
       "      <th>DF</th>\n",
       "      <td>1805</td>\n",
       "    </tr>\n",
       "    <tr>\n",
       "      <th>ES</th>\n",
       "      <td>1081</td>\n",
       "    </tr>\n",
       "    <tr>\n",
       "      <th>GO</th>\n",
       "      <td>886</td>\n",
       "    </tr>\n",
       "    <tr>\n",
       "      <th>MA</th>\n",
       "      <td>1082</td>\n",
       "    </tr>\n",
       "    <tr>\n",
       "      <th>MG</th>\n",
       "      <td>4186</td>\n",
       "    </tr>\n",
       "    <tr>\n",
       "      <th>MS</th>\n",
       "      <td>531</td>\n",
       "    </tr>\n",
       "    <tr>\n",
       "      <th>MT</th>\n",
       "      <td>1012</td>\n",
       "    </tr>\n",
       "    <tr>\n",
       "      <th>PA</th>\n",
       "      <td>211</td>\n",
       "    </tr>\n",
       "    <tr>\n",
       "      <th>PB</th>\n",
       "      <td>343</td>\n",
       "    </tr>\n",
       "    <tr>\n",
       "      <th>PE</th>\n",
       "      <td>1626</td>\n",
       "    </tr>\n",
       "    <tr>\n",
       "      <th>PI</th>\n",
       "      <td>77</td>\n",
       "    </tr>\n",
       "    <tr>\n",
       "      <th>PR</th>\n",
       "      <td>6140</td>\n",
       "    </tr>\n",
       "    <tr>\n",
       "      <th>RJ</th>\n",
       "      <td>4907</td>\n",
       "    </tr>\n",
       "    <tr>\n",
       "      <th>RN</th>\n",
       "      <td>160</td>\n",
       "    </tr>\n",
       "    <tr>\n",
       "      <th>RO</th>\n",
       "      <td>119</td>\n",
       "    </tr>\n",
       "    <tr>\n",
       "      <th>RR</th>\n",
       "      <td>24</td>\n",
       "    </tr>\n",
       "    <tr>\n",
       "      <th>RS</th>\n",
       "      <td>1941</td>\n",
       "    </tr>\n",
       "    <tr>\n",
       "      <th>SC</th>\n",
       "      <td>1458</td>\n",
       "    </tr>\n",
       "    <tr>\n",
       "      <th>SE</th>\n",
       "      <td>97</td>\n",
       "    </tr>\n",
       "    <tr>\n",
       "      <th>SP</th>\n",
       "      <td>11882</td>\n",
       "    </tr>\n",
       "    <tr>\n",
       "      <th>TO</th>\n",
       "      <td>46</td>\n",
       "    </tr>\n",
       "  </tbody>\n",
       "</table>\n",
       "</div>"
      ],
      "text/plain": [
       "Total      1\n",
       "UF          \n",
       "AC       449\n",
       "AL       104\n",
       "AM       291\n",
       "AP        18\n",
       "BA      2443\n",
       "CE      1068\n",
       "DF      1805\n",
       "ES      1081\n",
       "GO       886\n",
       "MA      1082\n",
       "MG      4186\n",
       "MS       531\n",
       "MT      1012\n",
       "PA       211\n",
       "PB       343\n",
       "PE      1626\n",
       "PI        77\n",
       "PR      6140\n",
       "RJ      4907\n",
       "RN       160\n",
       "RO       119\n",
       "RR        24\n",
       "RS      1941\n",
       "SC      1458\n",
       "SE        97\n",
       "SP     11882\n",
       "TO        46"
      ]
     },
     "execution_count": 82,
     "metadata": {},
     "output_type": "execute_result"
    }
   ],
   "source": [
    "# Exercício 3.1\n",
    "df_RecUF = df2.groupby('UF').apply(lambda x: x.Total.value_counts()) # Frequencia Absoluta Reclamações por Estado\n",
    "RecUf = df2['UF'].value_counts().sort_index()\n",
    "df_RecUF "
   ]
  },
  {
   "cell_type": "code",
   "execution_count": 83,
   "metadata": {},
   "outputs": [
    {
     "data": {
      "image/png": "[encoded data removed]",
      "text/plain": [
       "<Figure size 720x288 with 1 Axes>"
      ]
     },
     "metadata": {
      "needs_background": "light"
     },
     "output_type": "display_data"
    }
   ],
   "source": [
    "plt.figure(figsize=[10,4])\n",
    "plt.bar(RecUf.index, RecUf.values, color = 'green')\n",
    "plt.title('Reclamações por estado')\n",
    "plt.show()"
   ]
  },
  {
   "cell_type": "code",
   "execution_count": 16,
   "metadata": {},
   "outputs": [
    {
     "data": {
      "text/html": [
       "<div>\n",
       "<style scoped>\n",
       "    .dataframe tbody tr th:only-of-type {\n",
       "        vertical-align: middle;\n",
       "    }\n",
       "\n",
       "    .dataframe tbody tr th {\n",
       "        vertical-align: top;\n",
       "    }\n",
       "\n",
       "    .dataframe thead th {\n",
       "        text-align: right;\n",
       "    }\n",
       "</style>\n",
       "<table border=\"1\" class=\"dataframe\">\n",
       "  <thead>\n",
       "    <tr style=\"text-align: right;\">\n",
       "      <th>Total</th>\n",
       "      <th>1</th>\n",
       "    </tr>\n",
       "    <tr>\n",
       "      <th>Sexo</th>\n",
       "      <th></th>\n",
       "    </tr>\n",
       "  </thead>\n",
       "  <tbody>\n",
       "    <tr>\n",
       "      <th>F</th>\n",
       "      <td>16092</td>\n",
       "    </tr>\n",
       "    <tr>\n",
       "      <th>M</th>\n",
       "      <td>27895</td>\n",
       "    </tr>\n",
       "  </tbody>\n",
       "</table>\n",
       "</div>"
      ],
      "text/plain": [
       "Total      1\n",
       "Sexo        \n",
       "F      16092\n",
       "M      27895"
      ]
     },
     "execution_count": 16,
     "metadata": {},
     "output_type": "execute_result"
    }
   ],
   "source": [
    "# Exercício 3.2\n",
    "df_RecSexo = df2.groupby('Sexo').apply(lambda x: x.Total.value_counts()) # Frequencia Absoluta Reclamações por Sexo\n",
    "df_RecSexo"
   ]
  },
  {
   "cell_type": "code",
   "execution_count": 17,
   "metadata": {
    "scrolled": true
   },
   "outputs": [
    {
     "data": {
      "text/plain": [
       "Index(['Gestor', 'Canal de Origem', 'Região', 'UF', 'Cidade', 'Sexo',\n",
       "       'Faixa Etária', 'Ano Abertura', 'Mês Abertura', 'Data Abertura',\n",
       "       'Hora Abertura', 'Data Resposta', 'Hora Resposta', 'Data Análise',\n",
       "       'Hora Análise', 'Data Recusa', 'Hora Recusa', 'Data Finalização',\n",
       "       'Hora Finalização', 'Prazo Resposta', 'Prazo Analise Gestor',\n",
       "       'Tempo Resposta', 'Nome Fantasia', 'Segmento de Mercado', 'Área',\n",
       "       'Assunto', 'Grupo Problema', 'Problema', 'Como Comprou Contratou',\n",
       "       'Procurou Empresa', 'Respondida', 'Situação', 'Avaliação Reclamação',\n",
       "       'Nota do Consumidor', 'Análise da Recusa', 'Edição de Conteúdo',\n",
       "       'Interação do Gestor', 'Total'],\n",
       "      dtype='object')"
      ]
     },
     "execution_count": 17,
     "metadata": {},
     "output_type": "execute_result"
    }
   ],
   "source": [
    "# Exercício 3.3\n",
    "df2.columns # Verificando os nomes das colunas (para tirar espaço das que usarei)"
   ]
  },
  {
   "cell_type": "code",
   "execution_count": 50,
   "metadata": {},
   "outputs": [
    {
     "data": {
      "text/plain": [
       "Index(['Gestor', 'Canal de Origem', 'Região', 'UF', 'Cidade', 'Sexo',\n",
       "       'Faixa Etária', 'Ano_Abertura', 'Mes_Abertura', 'Data_Abertura',\n",
       "       'Hora Abertura', 'Data Resposta', 'Hora Resposta', 'Data Análise',\n",
       "       'Hora Análise', 'Data Recusa', 'Hora Recusa', 'Data_Finalizacao',\n",
       "       'Hora Finalização', 'Prazo Resposta', 'Prazo Analise Gestor',\n",
       "       'Tempo_Resposta', 'Nome Fantasia', 'Segmento de Mercado', 'Área',\n",
       "       'Assunto', 'Grupo Problema', 'Problema', 'Como Comprou Contratou',\n",
       "       'Procurou Empresa', 'Respondida', 'Situação', 'Avaliação Reclamação',\n",
       "       'Nota', 'Análise da Recusa', 'Edição de Conteúdo',\n",
       "       'Interação do Gestor', 'Total'],\n",
       "      dtype='object')"
      ]
     },
     "execution_count": 50,
     "metadata": {},
     "output_type": "execute_result"
    }
   ],
   "source": [
    "df2.rename(columns = {'Nota do Consumidor': 'Nota', 'Tempo Resposta': 'Tempo_Resposta', 'Ano Abertura': 'Ano_Abertura', 'Mês Abertura':'Mes_Abertura', 'Data Finalização':\"Data_Finalizacao\", 'Data Abertura':'Data_Abertura'}, inplace = True)\n",
    "df2.columns"
   ]
  },
  {
   "cell_type": "code",
   "execution_count": 19,
   "metadata": {
    "scrolled": true
   },
   "outputs": [],
   "source": [
    "df2NotaTempo = df2[[\"Nota\", \"Tempo_Resposta\"]]"
   ]
  },
  {
   "cell_type": "code",
   "execution_count": 20,
   "metadata": {},
   "outputs": [
    {
     "data": {
      "text/html": [
       "<div>\n",
       "<style scoped>\n",
       "    .dataframe tbody tr th:only-of-type {\n",
       "        vertical-align: middle;\n",
       "    }\n",
       "\n",
       "    .dataframe tbody tr th {\n",
       "        vertical-align: top;\n",
       "    }\n",
       "\n",
       "    .dataframe thead th {\n",
       "        text-align: right;\n",
       "    }\n",
       "</style>\n",
       "<table border=\"1\" class=\"dataframe\">\n",
       "  <thead>\n",
       "    <tr style=\"text-align: right;\">\n",
       "      <th></th>\n",
       "      <th>Nota</th>\n",
       "      <th>Tempo_Resposta</th>\n",
       "    </tr>\n",
       "  </thead>\n",
       "  <tbody>\n",
       "    <tr>\n",
       "      <th>0</th>\n",
       "      <td>NaN</td>\n",
       "      <td>5.0</td>\n",
       "    </tr>\n",
       "    <tr>\n",
       "      <th>1</th>\n",
       "      <td>1.0</td>\n",
       "      <td>6.0</td>\n",
       "    </tr>\n",
       "    <tr>\n",
       "      <th>2</th>\n",
       "      <td>5.0</td>\n",
       "      <td>5.0</td>\n",
       "    </tr>\n",
       "    <tr>\n",
       "      <th>3</th>\n",
       "      <td>5.0</td>\n",
       "      <td>0.0</td>\n",
       "    </tr>\n",
       "    <tr>\n",
       "      <th>4</th>\n",
       "      <td>NaN</td>\n",
       "      <td>1.0</td>\n",
       "    </tr>\n",
       "    <tr>\n",
       "      <th>...</th>\n",
       "      <td>...</td>\n",
       "      <td>...</td>\n",
       "    </tr>\n",
       "    <tr>\n",
       "      <th>43982</th>\n",
       "      <td>NaN</td>\n",
       "      <td>10.0</td>\n",
       "    </tr>\n",
       "    <tr>\n",
       "      <th>43983</th>\n",
       "      <td>1.0</td>\n",
       "      <td>5.0</td>\n",
       "    </tr>\n",
       "    <tr>\n",
       "      <th>43984</th>\n",
       "      <td>1.0</td>\n",
       "      <td>3.0</td>\n",
       "    </tr>\n",
       "    <tr>\n",
       "      <th>43985</th>\n",
       "      <td>NaN</td>\n",
       "      <td>8.0</td>\n",
       "    </tr>\n",
       "    <tr>\n",
       "      <th>43986</th>\n",
       "      <td>3.0</td>\n",
       "      <td>0.0</td>\n",
       "    </tr>\n",
       "  </tbody>\n",
       "</table>\n",
       "<p>43987 rows × 2 columns</p>\n",
       "</div>"
      ],
      "text/plain": [
       "       Nota  Tempo_Resposta\n",
       "0       NaN             5.0\n",
       "1       1.0             6.0\n",
       "2       5.0             5.0\n",
       "3       5.0             0.0\n",
       "4       NaN             1.0\n",
       "...     ...             ...\n",
       "43982   NaN            10.0\n",
       "43983   1.0             5.0\n",
       "43984   1.0             3.0\n",
       "43985   NaN             8.0\n",
       "43986   3.0             0.0\n",
       "\n",
       "[43987 rows x 2 columns]"
      ]
     },
     "execution_count": 20,
     "metadata": {},
     "output_type": "execute_result"
    }
   ],
   "source": [
    "df2NotaTempo"
   ]
  },
  {
   "cell_type": "code",
   "execution_count": 21,
   "metadata": {},
   "outputs": [
    {
     "data": {
      "text/plain": [
       "Nota\n",
       "1.0    7.219847\n",
       "2.0    7.045891\n",
       "3.0    6.512574\n",
       "4.0    6.166163\n",
       "5.0    5.844847\n",
       "Name: Tempo_Resposta, dtype: float64"
      ]
     },
     "execution_count": 21,
     "metadata": {},
     "output_type": "execute_result"
    }
   ],
   "source": [
    "df2NotaTempo.groupby(['Nota'])[\"Tempo_Resposta\"].mean()"
   ]
  },
  {
   "cell_type": "code",
   "execution_count": 22,
   "metadata": {},
   "outputs": [
    {
     "data": {
      "text/html": [
       "<div>\n",
       "<style scoped>\n",
       "    .dataframe tbody tr th:only-of-type {\n",
       "        vertical-align: middle;\n",
       "    }\n",
       "\n",
       "    .dataframe tbody tr th {\n",
       "        vertical-align: top;\n",
       "    }\n",
       "\n",
       "    .dataframe thead th {\n",
       "        text-align: right;\n",
       "    }\n",
       "</style>\n",
       "<table border=\"1\" class=\"dataframe\">\n",
       "  <thead>\n",
       "    <tr style=\"text-align: right;\">\n",
       "      <th></th>\n",
       "      <th>Nota</th>\n",
       "      <th>Tempo_Resposta</th>\n",
       "    </tr>\n",
       "  </thead>\n",
       "  <tbody>\n",
       "    <tr>\n",
       "      <th>1</th>\n",
       "      <td>1.0</td>\n",
       "      <td>6.0</td>\n",
       "    </tr>\n",
       "    <tr>\n",
       "      <th>2</th>\n",
       "      <td>5.0</td>\n",
       "      <td>5.0</td>\n",
       "    </tr>\n",
       "    <tr>\n",
       "      <th>3</th>\n",
       "      <td>5.0</td>\n",
       "      <td>0.0</td>\n",
       "    </tr>\n",
       "    <tr>\n",
       "      <th>5</th>\n",
       "      <td>3.0</td>\n",
       "      <td>10.0</td>\n",
       "    </tr>\n",
       "    <tr>\n",
       "      <th>7</th>\n",
       "      <td>1.0</td>\n",
       "      <td>10.0</td>\n",
       "    </tr>\n",
       "    <tr>\n",
       "      <th>...</th>\n",
       "      <td>...</td>\n",
       "      <td>...</td>\n",
       "    </tr>\n",
       "    <tr>\n",
       "      <th>43978</th>\n",
       "      <td>1.0</td>\n",
       "      <td>6.0</td>\n",
       "    </tr>\n",
       "    <tr>\n",
       "      <th>43979</th>\n",
       "      <td>5.0</td>\n",
       "      <td>9.0</td>\n",
       "    </tr>\n",
       "    <tr>\n",
       "      <th>43983</th>\n",
       "      <td>1.0</td>\n",
       "      <td>5.0</td>\n",
       "    </tr>\n",
       "    <tr>\n",
       "      <th>43984</th>\n",
       "      <td>1.0</td>\n",
       "      <td>3.0</td>\n",
       "    </tr>\n",
       "    <tr>\n",
       "      <th>43986</th>\n",
       "      <td>3.0</td>\n",
       "      <td>0.0</td>\n",
       "    </tr>\n",
       "  </tbody>\n",
       "</table>\n",
       "<p>28512 rows × 2 columns</p>\n",
       "</div>"
      ],
      "text/plain": [
       "       Nota  Tempo_Resposta\n",
       "1       1.0             6.0\n",
       "2       5.0             5.0\n",
       "3       5.0             0.0\n",
       "5       3.0            10.0\n",
       "7       1.0            10.0\n",
       "...     ...             ...\n",
       "43978   1.0             6.0\n",
       "43979   5.0             9.0\n",
       "43983   1.0             5.0\n",
       "43984   1.0             3.0\n",
       "43986   3.0             0.0\n",
       "\n",
       "[28512 rows x 2 columns]"
      ]
     },
     "execution_count": 22,
     "metadata": {},
     "output_type": "execute_result"
    }
   ],
   "source": [
    "df2NotaTempo = df2NotaTempo.dropna() # Dropando os valores NaN\n",
    "df2NotaTempo"
   ]
  },
  {
   "cell_type": "code",
   "execution_count": 20,
   "metadata": {},
   "outputs": [
    {
     "data": {
      "text/plain": [
       "Nota\n",
       "1.0    7.219847\n",
       "2.0    7.045891\n",
       "3.0    6.512574\n",
       "4.0    6.166163\n",
       "5.0    5.844847\n",
       "Name: Tempo_Resposta, dtype: float64"
      ]
     },
     "execution_count": 20,
     "metadata": {},
     "output_type": "execute_result"
    }
   ],
   "source": [
    "df2NotaTempo.groupby(['Nota'])[\"Tempo_Resposta\"].mean() #Verificando se a retiradas dos valores NaN interferem na média"
   ]
  },
  {
   "cell_type": "code",
   "execution_count": 23,
   "metadata": {},
   "outputs": [
    {
     "data": {
      "image/png": "[encoded data removed]",
      "text/plain": [
       "<Figure size 720x360 with 1 Axes>"
      ]
     },
     "metadata": {
      "needs_background": "light"
     },
     "output_type": "display_data"
    }
   ],
   "source": [
    "#Não ocorre alteração de valores médios devido à retirada dos NaN\n",
    "df2NotaTempo.boxplot(column= 'Tempo_Resposta', by = 'Nota',fontsize=15,figsize=[10,5],grid = False )\n",
    "plt.xlabel(\" Notas dos Consumidores\")\n",
    "plt.ylabel(\" Tempos de Resposta\")\n",
    "plt.title(\" Comparação tempo de resposta por notas atribuidas pelos clientes\")\n",
    "plt.show()\n"
   ]
  },
  {
   "cell_type": "code",
   "execution_count": 24,
   "metadata": {},
   "outputs": [
    {
     "name": "stdout",
     "output_type": "stream",
     "text": [
      "O r-quadrado para Tempo_Resposta e Nota é: 3.52\n"
     ]
    }
   ],
   "source": [
    "# Pode-se perceber pelos Bloxpots que de fato, as notas inferiores são frutos de tempos superiores de resposta.\n",
    "# Calculando o R²:\n",
    "\n",
    "var_global = np.var(df2NotaTempo.Tempo_Resposta)\n",
    "\n",
    "#calculando a variância em cada categoria de Nota 1 a 5\n",
    "var_categ = df2NotaTempo.groupby('Nota').apply(lambda x: np.var(x.Tempo_Resposta))\n",
    "total_categ = df2NotaTempo.Nota.value_counts().sort_index()\n",
    "\n",
    "#Variância ponderada pelo número de observações na categoria\n",
    "var1 = (total_categ[1] * var_categ[1] + total_categ[2]* var_categ[2] + total_categ[3]* var_categ[3] + total_categ[4]* var_categ[4] + total_categ[5]* var_categ[5])\n",
    "var2 = (total_categ[1] + total_categ[2] + total_categ[3] + total_categ[4] + total_categ[5])\n",
    "\n",
    "var_ = var1/var2\n",
    "#r quadrado\n",
    "r_quad = (var_global - var_)/ var_global ; \n",
    "\n",
    "print(\"O r-quadrado para Tempo_Resposta e Nota é:\", round(r_quad*100,2))"
   ]
  },
  {
   "cell_type": "code",
   "execution_count": 25,
   "metadata": {},
   "outputs": [],
   "source": [
    "#Vemos que a correlação das variáveis Tempo_Resposta e Nota é baixa, no sentido de que apenas 3,52% da variância do Tempo de Resposta é explicado pela variável Nota. "
   ]
  },
  {
   "cell_type": "code",
   "execution_count": 26,
   "metadata": {},
   "outputs": [
    {
     "data": {
      "text/html": [
       "<div>\n",
       "<style scoped>\n",
       "    .dataframe tbody tr th:only-of-type {\n",
       "        vertical-align: middle;\n",
       "    }\n",
       "\n",
       "    .dataframe tbody tr th {\n",
       "        vertical-align: top;\n",
       "    }\n",
       "\n",
       "    .dataframe thead th {\n",
       "        text-align: right;\n",
       "    }\n",
       "</style>\n",
       "<table border=\"1\" class=\"dataframe\">\n",
       "  <thead>\n",
       "    <tr style=\"text-align: right;\">\n",
       "      <th>Total</th>\n",
       "      <th>1</th>\n",
       "    </tr>\n",
       "    <tr>\n",
       "      <th>Respondida</th>\n",
       "      <th></th>\n",
       "    </tr>\n",
       "  </thead>\n",
       "  <tbody>\n",
       "    <tr>\n",
       "      <th>N</th>\n",
       "      <td>2026</td>\n",
       "    </tr>\n",
       "    <tr>\n",
       "      <th>S</th>\n",
       "      <td>41961</td>\n",
       "    </tr>\n",
       "  </tbody>\n",
       "</table>\n",
       "</div>"
      ],
      "text/plain": [
       "Total           1\n",
       "Respondida       \n",
       "N            2026\n",
       "S           41961"
      ]
     },
     "execution_count": 26,
     "metadata": {},
     "output_type": "execute_result"
    }
   ],
   "source": [
    "# Exercício 3.4 - Proporção de Reclamações Registradas e não respondidas\n",
    "\n",
    "df_Resposta = df2.groupby('Respondida').apply(lambda x: x.Total.value_counts()) # Frequencia Absoluta Reclamações por Estado\n",
    "df_Resposta"
   ]
  },
  {
   "cell_type": "code",
   "execution_count": 65,
   "metadata": {},
   "outputs": [],
   "source": [
    "df_Resposta_pct =  df2.groupby('Respondida').apply(lambda x: x.Total.value_counts()/df2.shape[0]*100)\n",
    "Resp_pct = df2['Respondida'].value_counts()/df2.shape[0]*100\n",
    "Resp_pct = Resp_pct.sort_values()"
   ]
  },
  {
   "cell_type": "code",
   "execution_count": 66,
   "metadata": {},
   "outputs": [
    {
     "data": {
      "image/png": "[encoded data removed]",
      "text/plain": [
       "<Figure size 432x288 with 1 Axes>"
      ]
     },
     "metadata": {
      "needs_background": "light"
     },
     "output_type": "display_data"
    }
   ],
   "source": [
    "plt.bar(Resp_pct.index, Resp_pct.values, color ='green')\n",
    "plt.title('Reclamações Registradas x Reclamações Atendidas (%)')\n",
    "plt.xticks(x, ('Não Respondidas','Respondidas'))\n",
    "plt.show()"
   ]
  },
  {
   "cell_type": "code",
   "execution_count": 57,
   "metadata": {},
   "outputs": [
    {
     "data": {
      "text/html": [
       "<div>\n",
       "<style scoped>\n",
       "    .dataframe tbody tr th:only-of-type {\n",
       "        vertical-align: middle;\n",
       "    }\n",
       "\n",
       "    .dataframe tbody tr th {\n",
       "        vertical-align: top;\n",
       "    }\n",
       "\n",
       "    .dataframe thead th {\n",
       "        text-align: right;\n",
       "    }\n",
       "</style>\n",
       "<table border=\"1\" class=\"dataframe\">\n",
       "  <thead>\n",
       "    <tr style=\"text-align: right;\">\n",
       "      <th>Total</th>\n",
       "      <th>1</th>\n",
       "    </tr>\n",
       "    <tr>\n",
       "      <th>Mes_Abertura</th>\n",
       "      <th></th>\n",
       "    </tr>\n",
       "  </thead>\n",
       "  <tbody>\n",
       "    <tr>\n",
       "      <th>5</th>\n",
       "      <td>150</td>\n",
       "    </tr>\n",
       "    <tr>\n",
       "      <th>6</th>\n",
       "      <td>2202</td>\n",
       "    </tr>\n",
       "    <tr>\n",
       "      <th>7</th>\n",
       "      <td>6337</td>\n",
       "    </tr>\n",
       "    <tr>\n",
       "      <th>8</th>\n",
       "      <td>5286</td>\n",
       "    </tr>\n",
       "    <tr>\n",
       "      <th>9</th>\n",
       "      <td>6336</td>\n",
       "    </tr>\n",
       "    <tr>\n",
       "      <th>10</th>\n",
       "      <td>7096</td>\n",
       "    </tr>\n",
       "    <tr>\n",
       "      <th>11</th>\n",
       "      <td>7458</td>\n",
       "    </tr>\n",
       "    <tr>\n",
       "      <th>12</th>\n",
       "      <td>9122</td>\n",
       "    </tr>\n",
       "  </tbody>\n",
       "</table>\n",
       "</div>"
      ],
      "text/plain": [
       "Total            1\n",
       "Mes_Abertura      \n",
       "5              150\n",
       "6             2202\n",
       "7             6337\n",
       "8             5286\n",
       "9             6336\n",
       "10            7096\n",
       "11            7458\n",
       "12            9122"
      ]
     },
     "execution_count": 57,
     "metadata": {},
     "output_type": "execute_result"
    }
   ],
   "source": [
    "# 3.5 - Qual foi o volume de reclamações por mês no ano de 2014 (ano único dos dados)?\n",
    "df_Mes = df2.groupby('Mes_Abertura').apply(lambda x: x.Total.value_counts()) # Frequencia Absoluta Reclamações por Mês\n",
    "df_Mes2 = df2['Mes_Abertura'].value_counts().sort_values()\n",
    "df_Mes"
   ]
  },
  {
   "cell_type": "code",
   "execution_count": 56,
   "metadata": {},
   "outputs": [
    {
     "data": {
      "image/png": "[encoded data removed]",
      "text/plain": [
       "<Figure size 432x288 with 1 Axes>"
      ]
     },
     "metadata": {
      "needs_background": "light"
     },
     "output_type": "display_data"
    }
   ],
   "source": [
    "#Gráfico de Linhas - mostrando a variação de reclamações por mês\n",
    "plt.bar(df_Mes2.index, df_Mes2.values, color = 'red')\n",
    "plt.title('Variação de reclamações ao longo dos meses')\n",
    "plt.xlabel('Meses')\n",
    "plt.ylabel('Número de reclamações')\n",
    "plt.show()"
   ]
  },
  {
   "cell_type": "code",
   "execution_count": 64,
   "metadata": {},
   "outputs": [],
   "source": [
    "#3.6 Quais são os segmentos de mercado com maior número de reclamações?\n"
   ]
  },
  {
   "cell_type": "code",
   "execution_count": 103,
   "metadata": {},
   "outputs": [
    {
     "data": {
      "text/plain": [
       "Administradoras de Consórcios                                                139\n",
       "Agências de Viagens                                                          324\n",
       "Artigos Esportivos                                                             6\n",
       "Bancos de Dados e Cadastros de Consumidores                                   18\n",
       "Bancos, Financeiras e Administradoras de Cartão                             8809\n",
       "Comércio Eletrônico                                                         6074\n",
       "Corretoras e Sociedades de Seguros, Capitalização e Previdência              378\n",
       "Editoras                                                                       2\n",
       "Empresas de Pagamento Eletrônico                                              25\n",
       "Empresas de Recuperação de Crédito                                            44\n",
       "Energia Elétrica, Gás, Água e Esgoto                                          73\n",
       "Estabelecimentos de Ensino                                                     1\n",
       "Fabricantes - Eletroeletrônicos,  Produtos de Telefonia e Informática       1725\n",
       "Fabricantes - Eletroportáteis e Artigos de Uso Doméstico e Pessoal            30\n",
       "Fabricantes - Linha Branca                                                   367\n",
       "Farmácias                                                                     11\n",
       "Móveis e Artigos de Decoração                                                  7\n",
       "Operadoras de Planos de Saúde e Administradoras de Benefícios                250\n",
       "Operadoras de Telecomunicações (Telefonia, Internet, TV por assinatura)    23962\n",
       "Perfumaria, Cosméticos e Higiene Pessoal                                      36\n",
       "Programas de Fidelidade                                                       55\n",
       "Provedores de Conteúdo e Outros Serviços na Internet                           6\n",
       "Supermercados                                                                205\n",
       "Transporte Aéreo                                                             430\n",
       "Transporte Terrestre                                                           1\n",
       "Varejo                                                                      1008\n",
       "Vestuário, Calçados e Têxteis                                                  1\n",
       "Name: Segmento de Mercado, dtype: int64"
      ]
     },
     "execution_count": 103,
     "metadata": {},
     "output_type": "execute_result"
    }
   ],
   "source": [
    "df_Mercado = df2.groupby('Segmento de Mercado').apply(lambda x: x.Total.value_counts()) # Frequencia Absoluta Reclamações por Estado\n",
    "df_Mercado"
   ]
  },
  {
   "cell_type": "code",
   "execution_count": 107,
   "metadata": {},
   "outputs": [
    {
     "data": {
      "image/png": "[encoded data removed]",
      "text/plain": [
       "<Figure size 432x288 with 1 Axes>"
      ]
     },
     "metadata": {
      "needs_background": "light"
     },
     "output_type": "display_data"
    }
   ],
   "source": [
    "df_Mercado.plot(kind = 'bar')\n",
    "plt.title('Reclamações por segmento de mercado')\n",
    "plt.xlabel('Número de reclamações')\n",
    "plt.ylabel('Segmentos de Mercado')\n",
    "plt.show()"
   ]
  },
  {
   "cell_type": "code",
   "execution_count": null,
   "metadata": {},
   "outputs": [],
   "source": []
  }
 ],
 "metadata": {
  "kernelspec": {
   "display_name": "Python 3",
   "language": "python",
   "name": "python3"
  },
  "language_info": {
   "codemirror_mode": {
    "name": "ipython",
    "version": 3
   },
   "file_extension": ".py",
   "mimetype": "text/x-python",
   "name": "python",
   "nbconvert_exporter": "python",
   "pygments_lexer": "ipython3",
   "version": "3.8.8"
  }
 },
 "nbformat": 4,
 "nbformat_minor": 4
}
